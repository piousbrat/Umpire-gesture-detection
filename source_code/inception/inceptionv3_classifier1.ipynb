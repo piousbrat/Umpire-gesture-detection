{
 "cells": [
  {
   "cell_type": "code",
   "execution_count": 1,
   "metadata": {},
   "outputs": [],
   "source": [
    "import os\n",
    "import time\n",
    "import pickle\n"
   ]
  },
  {
   "cell_type": "code",
   "execution_count": 2,
   "metadata": {},
   "outputs": [],
   "source": [
    "import numpy as np\n",
    "import pandas as pd"
   ]
  },
  {
   "cell_type": "code",
   "execution_count": 3,
   "metadata": {},
   "outputs": [],
   "source": [
    "from sklearn.metrics import accuracy_score\n",
    "from sklearn import svm\n",
    "from sklearn.model_selection import train_test_split\n",
    "from sklearn.model_selection import cross_val_score\n",
    "from sklearn.svm import LinearSVC\n",
    "from sklearn.model_selection import LeaveOneOut"
   ]
  },
  {
   "cell_type": "code",
   "execution_count": 4,
   "metadata": {},
   "outputs": [],
   "source": [
    "feature_path = os.path.abspath('../../features/inception')\n",
    "model_save_path = os.path.abspath('../../models/inception_svm')\n",
    "leave_one_out_validation = False"
   ]
  },
  {
   "cell_type": "code",
   "execution_count": 5,
   "metadata": {},
   "outputs": [],
   "source": [
    "#Storing the extracted features\n",
    "non_umpire = np.load(f'{feature_path}/model1_inception_features_non_umpire.npy')\n",
    "umpire = np.load(f'{feature_path}/model1_inception_features_umpire.npy')"
   ]
  },
  {
   "cell_type": "code",
   "execution_count": 6,
   "metadata": {},
   "outputs": [],
   "source": [
    "X_data = np.append(non_umpire, umpire, axis=0)\n",
    "labels = X_data[:, (X_data.shape[1]-1)]\n",
    "train_data = X_data[:, 0:(X_data.shape[1]-1)]"
   ]
  },
  {
   "cell_type": "code",
   "execution_count": 7,
   "metadata": {},
   "outputs": [],
   "source": [
    "x_train, x_test, y_train, y_test = train_test_split(train_data, labels, test_size=0.2, random_state=10)"
   ]
  },
  {
   "cell_type": "code",
   "execution_count": 8,
   "metadata": {},
   "outputs": [],
   "source": [
    "#Classifier using Linear SVM\n",
    "clf = LinearSVC(C=10)\n",
    "start_time = time.time()\n",
    "clf = clf.fit(x_train, y_train)\n",
    "predictions_tr = (clf.predict(x_test))"
   ]
  },
  {
   "cell_type": "code",
   "execution_count": 9,
   "metadata": {},
   "outputs": [],
   "source": [
    "#10-fold Cross-Validation    \n",
    "scores = cross_val_score(clf, x_train, y_train, cv=10)\n",
    "test_acc = accuracy_score(y_test, predictions_tr)"
   ]
  },
  {
   "cell_type": "code",
   "execution_count": 10,
   "metadata": {},
   "outputs": [
    {
     "name": "stdout",
     "output_type": "stream",
     "text": [
      "Training Accuracy: 0.9409 (+/- 0.11)\n",
      "Test Accuracy: 0.9667\n",
      "--- 3.8959524631500244 seconds ---\n"
     ]
    }
   ],
   "source": [
    "print(\"Training Accuracy: %0.4f (+/- %0.2f)\" % (scores.mean(), scores.std() * 2))\n",
    "print(\"Test Accuracy: %0.4f\" % test_acc)\n",
    "print(\"--- %s seconds ---\" % (time.time() - start_time))"
   ]
  },
  {
   "cell_type": "code",
   "execution_count": 14,
   "metadata": {},
   "outputs": [],
   "source": [
    "#Leave One Out Validation\n",
    "if leave_one_out_validation:\n",
    "   loo_train_acc = []\n",
    "   loo = LeaveOneOut()\n",
    "   for train_index, test_index in loo.split(x_train):\n",
    "      X_train, X_test = x_train[train_index], x_train[test_index]\n",
    "      Y_train, Y_test = y_train[train_index], y_train[test_index]\n",
    "      clf = clf.fit(X_train, Y_train)\n",
    "      predictions = (clf.predict(X_test))\n",
    "      loo_train_acc.append(accuracy_score(Y_test, predictions))\n",
    "\n",
    "   loo_train_accuracy = np.asarray(loo_train_acc)\n",
    "   print(\"LOO Accuracy: %0.4f\" % loo_train_accuracy.mean())"
   ]
  },
  {
   "cell_type": "code",
   "execution_count": 15,
   "metadata": {},
   "outputs": [],
   "source": [
    "#Save the model\n",
    "pickle.dump(clf, open(f'{model_save_path}/model1_inception_svm.sav', 'wb'))"
   ]
  },
  {
   "cell_type": "code",
   "execution_count": null,
   "metadata": {},
   "outputs": [],
   "source": []
  },
  {
   "cell_type": "code",
   "execution_count": null,
   "metadata": {},
   "outputs": [],
   "source": []
  }
 ],
 "metadata": {
  "kernelspec": {
   "display_name": "Python 3",
   "language": "python",
   "name": "python3"
  },
  "language_info": {
   "codemirror_mode": {
    "name": "ipython",
    "version": 3
   },
   "file_extension": ".py",
   "mimetype": "text/x-python",
   "name": "python",
   "nbconvert_exporter": "python",
   "pygments_lexer": "ipython3",
   "version": "3.7.3"
  }
 },
 "nbformat": 4,
 "nbformat_minor": 2
}

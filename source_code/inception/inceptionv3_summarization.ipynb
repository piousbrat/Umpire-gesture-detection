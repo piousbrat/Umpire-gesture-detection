{
 "cells": [
  {
   "cell_type": "code",
   "execution_count": 8,
   "metadata": {},
   "outputs": [],
   "source": [
    "import os\n",
    "import time\n",
    "import pickle"
   ]
  },
  {
   "cell_type": "code",
   "execution_count": 9,
   "metadata": {},
   "outputs": [],
   "source": [
    "import cv2"
   ]
  },
  {
   "cell_type": "code",
   "execution_count": 10,
   "metadata": {},
   "outputs": [],
   "source": [
    "import numpy as np\n",
    "import pandas as pd"
   ]
  },
  {
   "cell_type": "code",
   "execution_count": 11,
   "metadata": {},
   "outputs": [],
   "source": [
    "from keras import applications\n",
    "from keras.applications.inception_v3 import preprocess_input\n",
    "from keras.preprocessing import image\n",
    "from keras.models import Model"
   ]
  },
  {
   "cell_type": "code",
   "execution_count": 12,
   "metadata": {},
   "outputs": [],
   "source": [
    "model_load_path = os.path.abspath('../../models/inception_svm')\n",
    "test_video_path = os.path.abspath('../../')\n",
    "video_summary_save_path = os.path.abspath('../../results_summary')"
   ]
  },
  {
   "cell_type": "code",
   "execution_count": 13,
   "metadata": {},
   "outputs": [
    {
     "name": "stderr",
     "output_type": "stream",
     "text": [
      "c:\\users\\tanmay jain\\appdata\\local\\programs\\python\\python37\\lib\\site-packages\\ipykernel_launcher.py:4: UserWarning: Update your `Model` call to the Keras 2 API: `Model(inputs=Tensor(\"in..., outputs=Tensor(\"av...)`\n",
      "  after removing the cwd from sys.path.\n"
     ]
    }
   ],
   "source": [
    "start_time = time.time()\n",
    "base_model = applications.inception_v3.InceptionV3(include_top=True, weights='imagenet', input_tensor=None,\n",
    "                                                   input_shape=None, pooling=None, classes=1000)\n",
    "model = Model(input=base_model.input, output=base_model.get_layer('avg_pool').output)"
   ]
  },
  {
   "cell_type": "code",
   "execution_count": 14,
   "metadata": {},
   "outputs": [],
   "source": [
    "#Project Model- Loading the saved Inception models\n",
    "loaded_model1 = pickle.load(open(f'{model_load_path}/model1_inception_svm.sav', 'rb'))\n",
    "loaded_model2 = pickle.load(open(f'{model_load_path}/model2_inception_svm.sav', 'rb'))"
   ]
  },
  {
   "cell_type": "code",
   "execution_count": 15,
   "metadata": {},
   "outputs": [],
   "source": [
    "#Path for the video to be summarized\n",
    "vidcap = cv2.VideoCapture(f'{test_video_path}')"
   ]
  },
  {
   "cell_type": "code",
   "execution_count": 16,
   "metadata": {},
   "outputs": [],
   "source": [
    "count = 0\n",
    "bufferCount = 0\n",
    "\n",
    "globalWideVideo = []\n",
    "globalOutVideo = []\n",
    "globalSixVideo = []\n",
    "globalNoBallVideo = []\n",
    "globalNoActionVideo = []\n",
    "buffer = []"
   ]
  },
  {
   "cell_type": "code",
   "execution_count": 17,
   "metadata": {},
   "outputs": [],
   "source": [
    "th = 5\n",
    "buff_th = 250\n",
    "globalWideCounter = 0\n",
    "globalOutCounter = 0\n",
    "globalSixCounter = 0\n",
    "globalNoBallCounter = 0\n",
    "globalNoActionCounter = 0"
   ]
  },
  {
   "cell_type": "code",
   "execution_count": 18,
   "metadata": {},
   "outputs": [
    {
     "name": "stdout",
     "output_type": "stream",
     "text": [
      "Summarizing Video...\n",
      "--- 20.8558247089386 seconds ---\n"
     ]
    }
   ],
   "source": [
    "while (True):\n",
    "    success, img = vidcap.read()\n",
    "    \n",
    "    if success:\n",
    "        bufferCount = bufferCount + 1\n",
    "        buffer.append(img)\n",
    "        height, width, layers = img.shape\n",
    "        size = (width, height)\n",
    "        count = count + 1\n",
    "        print ('success')\n",
    "        img1 = cv2.resize(img, (299, 299))\n",
    "        x = image.img_to_array(img1)\n",
    "        x = np.expand_dims(x, axis=0)\n",
    "        x = preprocess_input(x)\n",
    "        #Feature Extraction Step\n",
    "        features = model.predict(x) #Inception V3 Model\n",
    "        predicted_values = loaded_model1.predict(features.reshape(1, -1)) \n",
    "        if predicted_values==2:\n",
    "            predicted_values_2 = loaded_model2.predict(features.reshape(1, -1))\n",
    "            choices = {'1':'noball', '2':'out', '3':'six', '4':'wide', '5':'noaction'}\n",
    "            result = choices.get(np.str(int(predicted_values_2)), 'default')\n",
    "            if result == 'noball':\n",
    "                globalNoBallCounter = globalNoBallCounter + 1\n",
    "                print('noball:')\n",
    "            if result == 'out':\n",
    "                globalOutCounter = globalOutCounter + 1\n",
    "                print('out:')\n",
    "            if result == 'six':\n",
    "                globalSixCounter = globalSixCounter + 1\n",
    "                print('six:')\n",
    "            if result == 'wide':\n",
    "                globalWideCounter = globalWideCounter + 1\n",
    "                print('wide:')\n",
    "            if result == 'noaction':\n",
    "                globalNoActionCounter = globalNoActionCounter + 1\n",
    "                print('noaction:')\n",
    "                \n",
    "    else:\n",
    "        break\n",
    "    ## Frame accumulation\n",
    "    if bufferCount == buff_th:\n",
    "        actionCount = {'noball': globalNoBallCounter, 'out': globalOutCounter, \n",
    "                       'six': globalSixCounter, 'wide': globalWideCounter}\n",
    "\n",
    "        winner = max(actionCount, key=actionCount.get)\n",
    "        if winner == 'noball' and globalNoBallCounter >th:\n",
    "            globalNoBallVideo.append(buffer)\n",
    "        if winner == 'out'and globalOutCounter >th:\n",
    "            globalOutVideo.append(buffer) \n",
    "        if winner == 'six'and globalSixCounter >th:\n",
    "            globalSixVideo.append(buffer)\n",
    "        if winner == 'wide' and globalWideCounter >th:\n",
    "            globalWideVideo.append(buffer)\n",
    "       \n",
    "        bufferCount = 0\n",
    "        globalWideCounter = 0\n",
    "        globalOutCounter = 0\n",
    "        globalSixCounter = 0\n",
    "        globalNoBallCounter = 0\n",
    "        globalNoActionCounter = 0\n",
    "        buffer = []\n",
    "    \n",
    "actionCount = {'noball': globalNoBallCounter, 'out': globalOutCounter,\n",
    "               'six': globalSixCounter, 'wide': globalWideCounter}\n",
    "winner = max(actionCount, key=actionCount.get)\n",
    "if winner == 'noball' and globalNoBallCounter >th:\n",
    "    globalNoBallVideo.append(buffer)\n",
    "if winner == 'out'and globalOutCounter >th:\n",
    "    globalOutVideo.append(buffer) \n",
    "if winner == 'six'and globalSixCounter >th:\n",
    "    globalSixVideo.append(buffer)\n",
    "if winner == 'wide' and globalWideCounter >th:\n",
    "    globalWideVideo.append(buffer)\n",
    "\n",
    "cv2.destroyAllWindows()\n",
    "\n",
    "print ('Summarizing Video...')\n",
    "\n",
    "if globalNoBallVideo!=[]:\n",
    "    noBallVideo = cv2.VideoWriter(f'{video_summary_save_path}/no_ball.avi', cv2.VideoWriter_fourcc(*'DIVX'),\n",
    "                                  25, size)\n",
    "    for i in range(len(globalNoBallVideo)):\n",
    "        for j in range(len(globalNoBallVideo[i])):\n",
    "            # writing to a image array\n",
    "            noBallVideo.write(globalNoBallVideo[i][j])\n",
    "    noBallVideo.release()\n",
    "\n",
    "if globalOutVideo!=[]:\n",
    "    outVideo = cv2.VideoWriter(f'{video_summary_save_path}/out.avi', cv2.VideoWriter_fourcc(*'DIVX'),\n",
    "                               25, size)\n",
    "    for i in range(len(globalOutVideo)):\n",
    "        for j in range(len(globalOutVideo[i])):\n",
    "            # writing to a image array\n",
    "            outVideo.write(globalOutVideo[i][j])\n",
    "    outVideo.release()    \n",
    "\n",
    "if globalWideVideo!=[]:\n",
    "    wideVideo = cv2.VideoWriter(f'{video_summary_save_path}/wide.avi', cv2.VideoWriter_fourcc(*'DIVX'),\n",
    "                                25, size)\n",
    "    for i in range(len(globalWideVideo)):\n",
    "        for j in range(len(globalWideVideo[i])):\n",
    "            # writing to a image array\n",
    "            wideVideo.write(globalWideVideo[i][j])\n",
    "    wideVideo.release()\n",
    "\n",
    "if globalSixVideo!=[]:\n",
    "    sixVideo = cv2.VideoWriter(f'{video_summary_save_path}/sixes.avi', cv2.VideoWriter_fourcc(*'DIVX'),\n",
    "                               25, size)\n",
    "    for i in range(len(globalSixVideo)):\n",
    "        for j in range(len(globalSixVideo[i])):\n",
    "            # writing to a image array\n",
    "            sixVideo.write(globalSixVideo[i][j])\n",
    "    sixVideo.release()\n",
    "    \n",
    "print('--- %s seconds ---' % (time.time() - start_time))"
   ]
  },
  {
   "cell_type": "code",
   "execution_count": null,
   "metadata": {},
   "outputs": [],
   "source": []
  }
 ],
 "metadata": {
  "kernelspec": {
   "display_name": "Python 3",
   "language": "python",
   "name": "python3"
  },
  "language_info": {
   "codemirror_mode": {
    "name": "ipython",
    "version": 3
   },
   "file_extension": ".py",
   "mimetype": "text/x-python",
   "name": "python",
   "nbconvert_exporter": "python",
   "pygments_lexer": "ipython3",
   "version": "3.7.3"
  }
 },
 "nbformat": 4,
 "nbformat_minor": 2
}

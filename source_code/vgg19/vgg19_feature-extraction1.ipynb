{
 "cells": [
  {
   "cell_type": "code",
   "execution_count": 1,
   "metadata": {},
   "outputs": [],
   "source": [
    "import os\n",
    "import glob\n",
    "import time"
   ]
  },
  {
   "cell_type": "code",
   "execution_count": 2,
   "metadata": {},
   "outputs": [],
   "source": [
    "import numpy as np"
   ]
  },
  {
   "cell_type": "code",
   "execution_count": 3,
   "metadata": {},
   "outputs": [
    {
     "name": "stderr",
     "output_type": "stream",
     "text": [
      "Using TensorFlow backend.\n"
     ]
    }
   ],
   "source": [
    "from keras import applications\n",
    "from keras.applications.vgg19 import preprocess_input\n",
    "from keras.preprocessing import image\n",
    "from keras import applications\n",
    "from keras.models import Model"
   ]
  },
  {
   "cell_type": "code",
   "execution_count": 4,
   "metadata": {},
   "outputs": [
    {
     "name": "stdout",
     "output_type": "stream",
     "text": [
      "Downloading data from https://github.com/fchollet/deep-learning-models/releases/download/v0.1/vgg19_weights_tf_dim_ordering_tf_kernels.h5\n",
      "574717952/574710816 [==============================] - 282s 0us/step\n"
     ]
    }
   ],
   "source": [
    "base_model = applications.vgg19.VGG19(include_top=True, weights='imagenet', input_tensor=None, \n",
    "                                      input_shape=None, pooling=None, classes=1000)\n"
   ]
  },
  {
   "cell_type": "code",
   "execution_count": 7,
   "metadata": {},
   "outputs": [],
   "source": [
    "data_path = os.path.abspath('../../data/umpire_non_umpire_train')\n"
   ]
  },
  {
   "cell_type": "code",
   "execution_count": 8,
   "metadata": {},
   "outputs": [],
   "source": [
    "save_path = os.path.abspath('../../features/vgg19')"
   ]
  },
  {
   "cell_type": "code",
   "execution_count": 9,
   "metadata": {},
   "outputs": [],
   "source": [
    "classes = ['non_umpire', 'umpire']"
   ]
  },
  {
   "cell_type": "code",
   "execution_count": 10,
   "metadata": {},
   "outputs": [
    {
     "name": "stdout",
     "output_type": "stream",
     "text": [
      "--- 0.0 seconds ---\n"
     ]
    },
    {
     "name": "stderr",
     "output_type": "stream",
     "text": [
      "c:\\users\\tanmay jain\\appdata\\local\\programs\\python\\python37\\lib\\site-packages\\ipykernel_launcher.py:5: UserWarning: Update your `Model` call to the Keras 2 API: `Model(inputs=Tensor(\"in..., outputs=Tensor(\"fc...)`\n",
      "  \"\"\"\n"
     ]
    }
   ],
   "source": [
    "start_time = time.time()\n",
    "layers_to_extract = ['fc1']\n",
    "\n",
    "for layer_num in range(0, len(layers_to_extract)):\n",
    "    model = Model(input=base_model.input, output=base_model.get_layer(layers_to_extract[layer_num]).output)\n",
    "    for cls in range(1, 3):\n",
    "        img_count = 0\n",
    "        feats=[]\n",
    "        for image_path in glob.glob(f'{data_path}/{classes[cls-1]}*'):\n",
    "            img_count=img_count+1\n",
    "            print(img_count)\n",
    "        \n",
    "            #Pre-processing\n",
    "            img = image.load_img(image_path, target_size=(224, 224))\n",
    "            x_in = image.img_to_array(img)\n",
    "            x_in = np.expand_dims(x_in, axis=0)\n",
    "            x_in = preprocess_input(x_in)\n",
    "            \n",
    "            #Feature Extraction\n",
    "            features = model.predict(x_in)\n",
    "            features = features.flatten()\n",
    "            feats.append(features)\n",
    "            features_arr = np.char.mod('%f', features)\n",
    "        \n",
    "        feature_list = np.squeeze(np.asarray(feats))\n",
    "        labels = np.ones(len(feature_list))*cls\n",
    "        feature_list = np.column_stack((feature_list, labels))\n",
    "        #Save the features as numpy array for further processing\n",
    "        np.save(f'{save_path}/model1_vgg19_{layers_to_extract[layer_num]}_features_{classes[cls-1]}.npy',\n",
    "                feature_list)\n",
    "\n",
    "print(\"--- %s seconds ---\" % (time.time() - start_time))"
   ]
  },
  {
   "cell_type": "code",
   "execution_count": null,
   "metadata": {},
   "outputs": [],
   "source": []
  }
 ],
 "metadata": {
  "kernelspec": {
   "display_name": "Python 3",
   "language": "python",
   "name": "python3"
  },
  "language_info": {
   "codemirror_mode": {
    "name": "ipython",
    "version": 3
   },
   "file_extension": ".py",
   "mimetype": "text/x-python",
   "name": "python",
   "nbconvert_exporter": "python",
   "pygments_lexer": "ipython3",
   "version": "3.7.3"
  }
 },
 "nbformat": 4,
 "nbformat_minor": 2
}
